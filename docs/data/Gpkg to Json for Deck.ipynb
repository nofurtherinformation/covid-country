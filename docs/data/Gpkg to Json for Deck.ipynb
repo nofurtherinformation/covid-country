{
 "cells": [
  {
   "cell_type": "code",
   "execution_count": 27,
   "metadata": {},
   "outputs": [],
   "source": [
    "import geopandas as gpd\n",
    "import pandas as pd\n",
    "import json"
   ]
  },
  {
   "cell_type": "code",
   "execution_count": 28,
   "metadata": {},
   "outputs": [],
   "source": [
    "gdf = gpd.read_file('county_joined_centroids.gpkg')"
   ]
  },
  {
   "cell_type": "code",
   "execution_count": 29,
   "metadata": {},
   "outputs": [],
   "source": [
    "gdf['x'] = gdf.geometry.x\n",
    "gdf['y'] = gdf.geometry.y"
   ]
  },
  {
   "cell_type": "code",
   "execution_count": 30,
   "metadata": {},
   "outputs": [],
   "source": [
    "df = pd.DataFrame(gdf)\n",
    "df = df.drop('geometry', axis=1)"
   ]
  },
  {
   "cell_type": "code",
   "execution_count": 31,
   "metadata": {},
   "outputs": [
    {
     "data": {
      "text/html": [
       "<div>\n",
       "<style scoped>\n",
       "    .dataframe tbody tr th:only-of-type {\n",
       "        vertical-align: middle;\n",
       "    }\n",
       "\n",
       "    .dataframe tbody tr th {\n",
       "        vertical-align: top;\n",
       "    }\n",
       "\n",
       "    .dataframe thead th {\n",
       "        text-align: right;\n",
       "    }\n",
       "</style>\n",
       "<table border=\"1\" class=\"dataframe\">\n",
       "  <thead>\n",
       "    <tr style=\"text-align: right;\">\n",
       "      <th></th>\n",
       "      <th>STATEFP</th>\n",
       "      <th>COUNTYFP</th>\n",
       "      <th>GEOID</th>\n",
       "      <th>NAME</th>\n",
       "      <th>state_name</th>\n",
       "      <th>state_abbr</th>\n",
       "      <th>population</th>\n",
       "      <th>beds</th>\n",
       "      <th>criteria</th>\n",
       "      <th>tcap_2020-01-22</th>\n",
       "      <th>...</th>\n",
       "      <th>pos_2021-01-13</th>\n",
       "      <th>pos_2021-01-14</th>\n",
       "      <th>pos_2021-01-15</th>\n",
       "      <th>pos_2021-01-16</th>\n",
       "      <th>pos_2021-01-17</th>\n",
       "      <th>pos_2021-01-18</th>\n",
       "      <th>pos_2021-01-19</th>\n",
       "      <th>pos_2021-01-20</th>\n",
       "      <th>x</th>\n",
       "      <th>y</th>\n",
       "    </tr>\n",
       "  </thead>\n",
       "  <tbody>\n",
       "    <tr>\n",
       "      <th>0</th>\n",
       "      <td>37</td>\n",
       "      <td>017</td>\n",
       "      <td>37017</td>\n",
       "      <td>Bladen</td>\n",
       "      <td>North Carolina</td>\n",
       "      <td>NC</td>\n",
       "      <td>33778</td>\n",
       "      <td>58</td>\n",
       "      <td>NA</td>\n",
       "      <td>0.0</td>\n",
       "      <td>...</td>\n",
       "      <td>0.1396</td>\n",
       "      <td>0.1389</td>\n",
       "      <td>0.1385</td>\n",
       "      <td>0.1364</td>\n",
       "      <td>0.152</td>\n",
       "      <td>0.1546</td>\n",
       "      <td>0.1646</td>\n",
       "      <td>0.1549</td>\n",
       "      <td>-78.561318</td>\n",
       "      <td>34.608961</td>\n",
       "    </tr>\n",
       "    <tr>\n",
       "      <th>1</th>\n",
       "      <td>37</td>\n",
       "      <td>167</td>\n",
       "      <td>37167</td>\n",
       "      <td>Stanly</td>\n",
       "      <td>North Carolina</td>\n",
       "      <td>NC</td>\n",
       "      <td>61114</td>\n",
       "      <td>109</td>\n",
       "      <td>NA</td>\n",
       "      <td>0.0</td>\n",
       "      <td>...</td>\n",
       "      <td>0.1513</td>\n",
       "      <td>0.1425</td>\n",
       "      <td>0.1297</td>\n",
       "      <td>0.1312</td>\n",
       "      <td>0.1378</td>\n",
       "      <td>0.142</td>\n",
       "      <td>0.1344</td>\n",
       "      <td>0.1439</td>\n",
       "      <td>-80.241866</td>\n",
       "      <td>35.315844</td>\n",
       "    </tr>\n",
       "    <tr>\n",
       "      <th>2</th>\n",
       "      <td>39</td>\n",
       "      <td>153</td>\n",
       "      <td>39153</td>\n",
       "      <td>Summit</td>\n",
       "      <td>Ohio</td>\n",
       "      <td>OH</td>\n",
       "      <td>541810</td>\n",
       "      <td>2527</td>\n",
       "      <td>NA</td>\n",
       "      <td>0.0</td>\n",
       "      <td>...</td>\n",
       "      <td>0.237</td>\n",
       "      <td>0.2387</td>\n",
       "      <td>0.2414</td>\n",
       "      <td>0.2371</td>\n",
       "      <td>0.2239</td>\n",
       "      <td>0.2252</td>\n",
       "      <td>0.2335</td>\n",
       "      <td>0.2252</td>\n",
       "      <td>-81.532913</td>\n",
       "      <td>41.122527</td>\n",
       "    </tr>\n",
       "    <tr>\n",
       "      <th>3</th>\n",
       "      <td>42</td>\n",
       "      <td>113</td>\n",
       "      <td>42113</td>\n",
       "      <td>Sullivan</td>\n",
       "      <td>Pennsylvania</td>\n",
       "      <td>PA</td>\n",
       "      <td>6177</td>\n",
       "      <td>0</td>\n",
       "      <td>Unknown</td>\n",
       "      <td>0.0</td>\n",
       "      <td>...</td>\n",
       "      <td>0.0513</td>\n",
       "      <td>0.0576</td>\n",
       "      <td>0.0669</td>\n",
       "      <td>0.0658</td>\n",
       "      <td>0.0923</td>\n",
       "      <td>0.0797</td>\n",
       "      <td>0.0795</td>\n",
       "      <td>0.0745</td>\n",
       "      <td>-76.508029</td>\n",
       "      <td>41.449268</td>\n",
       "    </tr>\n",
       "    <tr>\n",
       "      <th>4</th>\n",
       "      <td>48</td>\n",
       "      <td>459</td>\n",
       "      <td>48459</td>\n",
       "      <td>Upshur</td>\n",
       "      <td>Texas</td>\n",
       "      <td>TX</td>\n",
       "      <td>40769</td>\n",
       "      <td>0</td>\n",
       "      <td>Specimen</td>\n",
       "      <td>0.0</td>\n",
       "      <td>...</td>\n",
       "      <td>0.1983</td>\n",
       "      <td>0.1851</td>\n",
       "      <td>0.1833</td>\n",
       "      <td>0.1853</td>\n",
       "      <td>0.14</td>\n",
       "      <td>0.1811</td>\n",
       "      <td>0.175</td>\n",
       "      <td>0.2201</td>\n",
       "      <td>-94.939315</td>\n",
       "      <td>32.739353</td>\n",
       "    </tr>\n",
       "  </tbody>\n",
       "</table>\n",
       "<p>5 rows × 741 columns</p>\n",
       "</div>"
      ],
      "text/plain": [
       "  STATEFP COUNTYFP  GEOID      NAME      state_name state_abbr  population  \\\n",
       "0      37      017  37017    Bladen  North Carolina         NC       33778   \n",
       "1      37      167  37167    Stanly  North Carolina         NC       61114   \n",
       "2      39      153  39153    Summit            Ohio         OH      541810   \n",
       "3      42      113  42113  Sullivan    Pennsylvania         PA        6177   \n",
       "4      48      459  48459    Upshur           Texas         TX       40769   \n",
       "\n",
       "   beds  criteria tcap_2020-01-22  ... pos_2021-01-13 pos_2021-01-14  \\\n",
       "0    58        NA             0.0  ...         0.1396         0.1389   \n",
       "1   109        NA             0.0  ...         0.1513         0.1425   \n",
       "2  2527        NA             0.0  ...          0.237         0.2387   \n",
       "3     0   Unknown             0.0  ...         0.0513         0.0576   \n",
       "4     0  Specimen             0.0  ...         0.1983         0.1851   \n",
       "\n",
       "  pos_2021-01-15 pos_2021-01-16 pos_2021-01-17 pos_2021-01-18 pos_2021-01-19  \\\n",
       "0         0.1385         0.1364          0.152         0.1546         0.1646   \n",
       "1         0.1297         0.1312         0.1378          0.142         0.1344   \n",
       "2         0.2414         0.2371         0.2239         0.2252         0.2335   \n",
       "3         0.0669         0.0658         0.0923         0.0797         0.0795   \n",
       "4         0.1833         0.1853           0.14         0.1811          0.175   \n",
       "\n",
       "  pos_2021-01-20          x          y  \n",
       "0         0.1549 -78.561318  34.608961  \n",
       "1         0.1439 -80.241866  35.315844  \n",
       "2         0.2252 -81.532913  41.122527  \n",
       "3         0.0745 -76.508029  41.449268  \n",
       "4         0.2201 -94.939315  32.739353  \n",
       "\n",
       "[5 rows x 741 columns]"
      ]
     },
     "execution_count": 31,
     "metadata": {},
     "output_type": "execute_result"
    }
   ],
   "source": [
    "df.head()"
   ]
  },
  {
   "cell_type": "code",
   "execution_count": 36,
   "metadata": {},
   "outputs": [],
   "source": [
    "colList = []\n",
    "\n",
    "for column in df.columns:\n",
    "    if 'tcap' in column:\n",
    "        colList.append(column)"
   ]
  },
  {
   "cell_type": "code",
   "execution_count": 40,
   "metadata": {},
   "outputs": [
    {
     "data": {
      "text/plain": [
       "0.0"
      ]
     },
     "execution_count": 40,
     "metadata": {},
     "output_type": "execute_result"
    }
   ],
   "source": []
  },
  {
   "cell_type": "code",
   "execution_count": 41,
   "metadata": {},
   "outputs": [],
   "source": [
    "maximumVal = 0;\n",
    "for column in colList:\n",
    "    if (float(df[column].max())) > maximumVal:\n",
    "        maximumVal = float(df[column].max())"
   ]
  },
  {
   "cell_type": "code",
   "execution_count": 42,
   "metadata": {},
   "outputs": [
    {
     "data": {
      "text/plain": [
       "999.9"
      ]
     },
     "execution_count": 42,
     "metadata": {},
     "output_type": "execute_result"
    }
   ],
   "source": [
    "maximumVal"
   ]
  },
  {
   "cell_type": "code",
   "execution_count": 32,
   "metadata": {},
   "outputs": [],
   "source": [
    "result = df.to_json(orient=\"records\")\n",
    "parsed = json.loads(result)\n",
    "with open('centroids_testing.json', 'w') as outfile:\n",
    "    json.dump(parsed, outfile)"
   ]
  },
  {
   "cell_type": "code",
   "execution_count": 34,
   "metadata": {},
   "outputs": [],
   "source": [
    "df.to_csv('centroids_testing.csv', index=False)"
   ]
  },
  {
   "cell_type": "code",
   "execution_count": null,
   "metadata": {},
   "outputs": [],
   "source": []
  }
 ],
 "metadata": {
  "kernelspec": {
   "display_name": "Python 3",
   "language": "python",
   "name": "python3"
  },
  "language_info": {
   "codemirror_mode": {
    "name": "ipython",
    "version": 3
   },
   "file_extension": ".py",
   "mimetype": "text/x-python",
   "name": "python",
   "nbconvert_exporter": "python",
   "pygments_lexer": "ipython3",
   "version": "3.8.3"
  }
 },
 "nbformat": 4,
 "nbformat_minor": 4
}
