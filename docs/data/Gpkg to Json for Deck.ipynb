{
 "cells": [
  {
   "cell_type": "code",
   "execution_count": 1,
   "metadata": {},
   "outputs": [],
   "source": [
    "import geopandas as gpd\n",
    "import pandas as pd\n",
    "import json"
   ]
  },
  {
   "cell_type": "code",
   "execution_count": 12,
   "metadata": {},
   "outputs": [],
   "source": [
    "gdf = gpd.read_file('counties_joined_centroids_albers.gpkg')"
   ]
  },
  {
   "cell_type": "code",
   "execution_count": 13,
   "metadata": {},
   "outputs": [],
   "source": [
    "gdf['x'] = gdf.geometry.x\n",
    "gdf['y'] = gdf.geometry.y"
   ]
  },
  {
   "cell_type": "code",
   "execution_count": 14,
   "metadata": {},
   "outputs": [],
   "source": [
    "df = pd.DataFrame(gdf)\n",
    "df = df.drop('geometry', axis=1)"
   ]
  },
  {
   "cell_type": "code",
   "execution_count": 15,
   "metadata": {},
   "outputs": [
    {
     "data": {
      "text/html": [
       "<div>\n",
       "<style scoped>\n",
       "    .dataframe tbody tr th:only-of-type {\n",
       "        vertical-align: middle;\n",
       "    }\n",
       "\n",
       "    .dataframe tbody tr th {\n",
       "        vertical-align: top;\n",
       "    }\n",
       "\n",
       "    .dataframe thead th {\n",
       "        text-align: right;\n",
       "    }\n",
       "</style>\n",
       "<table border=\"1\" class=\"dataframe\">\n",
       "  <thead>\n",
       "    <tr style=\"text-align: right;\">\n",
       "      <th></th>\n",
       "      <th>STATEFP</th>\n",
       "      <th>COUNTYFP</th>\n",
       "      <th>GEOID</th>\n",
       "      <th>NAME</th>\n",
       "      <th>state_name</th>\n",
       "      <th>state_abbr</th>\n",
       "      <th>population</th>\n",
       "      <th>beds</th>\n",
       "      <th>criteria</th>\n",
       "      <th>tcap_2020-01-22</th>\n",
       "      <th>...</th>\n",
       "      <th>pos_2021-01-15</th>\n",
       "      <th>pos_2021-01-16</th>\n",
       "      <th>pos_2021-01-17</th>\n",
       "      <th>pos_2021-01-18</th>\n",
       "      <th>pos_2021-01-19</th>\n",
       "      <th>pos_2021-01-20</th>\n",
       "      <th>layer</th>\n",
       "      <th>path</th>\n",
       "      <th>x</th>\n",
       "      <th>y</th>\n",
       "    </tr>\n",
       "  </thead>\n",
       "  <tbody>\n",
       "    <tr>\n",
       "      <th>0</th>\n",
       "      <td>37</td>\n",
       "      <td>017</td>\n",
       "      <td>37017</td>\n",
       "      <td>Bladen</td>\n",
       "      <td>North Carolina</td>\n",
       "      <td>NC</td>\n",
       "      <td>33778</td>\n",
       "      <td>58</td>\n",
       "      <td>NA</td>\n",
       "      <td>0.0</td>\n",
       "      <td>...</td>\n",
       "      <td>0.1385</td>\n",
       "      <td>0.1364</td>\n",
       "      <td>0.152</td>\n",
       "      <td>0.1546</td>\n",
       "      <td>0.1646</td>\n",
       "      <td>0.1549</td>\n",
       "      <td>counties_continental</td>\n",
       "      <td>C:\\Users\\halpe\\Documents\\GitHub\\covid-country\\...</td>\n",
       "      <td>1.577658e+06</td>\n",
       "      <td>-178560.407726</td>\n",
       "    </tr>\n",
       "    <tr>\n",
       "      <th>1</th>\n",
       "      <td>37</td>\n",
       "      <td>167</td>\n",
       "      <td>37167</td>\n",
       "      <td>Stanly</td>\n",
       "      <td>North Carolina</td>\n",
       "      <td>NC</td>\n",
       "      <td>61114</td>\n",
       "      <td>109</td>\n",
       "      <td>NA</td>\n",
       "      <td>0.0</td>\n",
       "      <td>...</td>\n",
       "      <td>0.1297</td>\n",
       "      <td>0.1312</td>\n",
       "      <td>0.1378</td>\n",
       "      <td>0.142</td>\n",
       "      <td>0.1344</td>\n",
       "      <td>0.1439</td>\n",
       "      <td>counties_continental</td>\n",
       "      <td>C:\\Users\\halpe\\Documents\\GitHub\\covid-country\\...</td>\n",
       "      <td>1.414012e+06</td>\n",
       "      <td>-127139.591244</td>\n",
       "    </tr>\n",
       "    <tr>\n",
       "      <th>2</th>\n",
       "      <td>39</td>\n",
       "      <td>153</td>\n",
       "      <td>39153</td>\n",
       "      <td>Summit</td>\n",
       "      <td>Ohio</td>\n",
       "      <td>OH</td>\n",
       "      <td>541810</td>\n",
       "      <td>2527</td>\n",
       "      <td>NA</td>\n",
       "      <td>0.0</td>\n",
       "      <td>...</td>\n",
       "      <td>0.2414</td>\n",
       "      <td>0.2371</td>\n",
       "      <td>0.2239</td>\n",
       "      <td>0.2252</td>\n",
       "      <td>0.2335</td>\n",
       "      <td>0.2252</td>\n",
       "      <td>counties_continental</td>\n",
       "      <td>C:\\Users\\halpe\\Documents\\GitHub\\covid-country\\...</td>\n",
       "      <td>1.200454e+06</td>\n",
       "      <td>497455.130133</td>\n",
       "    </tr>\n",
       "    <tr>\n",
       "      <th>3</th>\n",
       "      <td>42</td>\n",
       "      <td>113</td>\n",
       "      <td>42113</td>\n",
       "      <td>Sullivan</td>\n",
       "      <td>Pennsylvania</td>\n",
       "      <td>PA</td>\n",
       "      <td>6177</td>\n",
       "      <td>0</td>\n",
       "      <td>Unknown</td>\n",
       "      <td>0.0</td>\n",
       "      <td>...</td>\n",
       "      <td>0.0669</td>\n",
       "      <td>0.0658</td>\n",
       "      <td>0.0923</td>\n",
       "      <td>0.0797</td>\n",
       "      <td>0.0795</td>\n",
       "      <td>0.0745</td>\n",
       "      <td>counties_continental</td>\n",
       "      <td>C:\\Users\\halpe\\Documents\\GitHub\\covid-country\\...</td>\n",
       "      <td>1.604867e+06</td>\n",
       "      <td>607683.235430</td>\n",
       "    </tr>\n",
       "    <tr>\n",
       "      <th>4</th>\n",
       "      <td>48</td>\n",
       "      <td>459</td>\n",
       "      <td>48459</td>\n",
       "      <td>Upshur</td>\n",
       "      <td>Texas</td>\n",
       "      <td>TX</td>\n",
       "      <td>40769</td>\n",
       "      <td>0</td>\n",
       "      <td>Specimen</td>\n",
       "      <td>0.0</td>\n",
       "      <td>...</td>\n",
       "      <td>0.1833</td>\n",
       "      <td>0.1853</td>\n",
       "      <td>0.14</td>\n",
       "      <td>0.1811</td>\n",
       "      <td>0.175</td>\n",
       "      <td>0.2201</td>\n",
       "      <td>counties_continental</td>\n",
       "      <td>C:\\Users\\halpe\\Documents\\GitHub\\covid-country\\...</td>\n",
       "      <td>9.882247e+04</td>\n",
       "      <td>-532015.617624</td>\n",
       "    </tr>\n",
       "  </tbody>\n",
       "</table>\n",
       "<p>5 rows × 743 columns</p>\n",
       "</div>"
      ],
      "text/plain": [
       "  STATEFP COUNTYFP  GEOID      NAME      state_name state_abbr  population  \\\n",
       "0      37      017  37017    Bladen  North Carolina         NC       33778   \n",
       "1      37      167  37167    Stanly  North Carolina         NC       61114   \n",
       "2      39      153  39153    Summit            Ohio         OH      541810   \n",
       "3      42      113  42113  Sullivan    Pennsylvania         PA        6177   \n",
       "4      48      459  48459    Upshur           Texas         TX       40769   \n",
       "\n",
       "   beds  criteria tcap_2020-01-22  ... pos_2021-01-15 pos_2021-01-16  \\\n",
       "0    58        NA             0.0  ...         0.1385         0.1364   \n",
       "1   109        NA             0.0  ...         0.1297         0.1312   \n",
       "2  2527        NA             0.0  ...         0.2414         0.2371   \n",
       "3     0   Unknown             0.0  ...         0.0669         0.0658   \n",
       "4     0  Specimen             0.0  ...         0.1833         0.1853   \n",
       "\n",
       "  pos_2021-01-17 pos_2021-01-18 pos_2021-01-19 pos_2021-01-20  \\\n",
       "0          0.152         0.1546         0.1646         0.1549   \n",
       "1         0.1378          0.142         0.1344         0.1439   \n",
       "2         0.2239         0.2252         0.2335         0.2252   \n",
       "3         0.0923         0.0797         0.0795         0.0745   \n",
       "4           0.14         0.1811          0.175         0.2201   \n",
       "\n",
       "                  layer                                               path  \\\n",
       "0  counties_continental  C:\\Users\\halpe\\Documents\\GitHub\\covid-country\\...   \n",
       "1  counties_continental  C:\\Users\\halpe\\Documents\\GitHub\\covid-country\\...   \n",
       "2  counties_continental  C:\\Users\\halpe\\Documents\\GitHub\\covid-country\\...   \n",
       "3  counties_continental  C:\\Users\\halpe\\Documents\\GitHub\\covid-country\\...   \n",
       "4  counties_continental  C:\\Users\\halpe\\Documents\\GitHub\\covid-country\\...   \n",
       "\n",
       "              x              y  \n",
       "0  1.577658e+06 -178560.407726  \n",
       "1  1.414012e+06 -127139.591244  \n",
       "2  1.200454e+06  497455.130133  \n",
       "3  1.604867e+06  607683.235430  \n",
       "4  9.882247e+04 -532015.617624  \n",
       "\n",
       "[5 rows x 743 columns]"
      ]
     },
     "execution_count": 15,
     "metadata": {},
     "output_type": "execute_result"
    }
   ],
   "source": [
    "df.head()"
   ]
  },
  {
   "cell_type": "code",
   "execution_count": 16,
   "metadata": {},
   "outputs": [],
   "source": [
    "colList = []\n",
    "\n",
    "for column in df.columns:\n",
    "    if 'tcap' in column:\n",
    "        colList.append(column)"
   ]
  },
  {
   "cell_type": "code",
   "execution_count": null,
   "metadata": {},
   "outputs": [],
   "source": []
  },
  {
   "cell_type": "code",
   "execution_count": 17,
   "metadata": {},
   "outputs": [],
   "source": [
    "maximumVal = 0;\n",
    "for column in colList:\n",
    "    if (float(df[column].max())) > maximumVal:\n",
    "        maximumVal = float(df[column].max())"
   ]
  },
  {
   "cell_type": "code",
   "execution_count": 18,
   "metadata": {},
   "outputs": [
    {
     "data": {
      "text/plain": [
       "999.9"
      ]
     },
     "execution_count": 18,
     "metadata": {},
     "output_type": "execute_result"
    }
   ],
   "source": [
    "maximumVal"
   ]
  },
  {
   "cell_type": "code",
   "execution_count": 19,
   "metadata": {},
   "outputs": [],
   "source": [
    "# result = df.to_json(orient=\"records\")\n",
    "# parsed = json.loads(result)\n",
    "# with open('centroids_testing.json_albers', 'w') as outfile:\n",
    "#     json.dump(parsed, outfile)"
   ]
  },
  {
   "cell_type": "code",
   "execution_count": 20,
   "metadata": {},
   "outputs": [],
   "source": [
    "df.to_csv('centroids_testing_albers.csv', index=False)"
   ]
  },
  {
   "cell_type": "markdown",
   "metadata": {},
   "source": [
    "<hr>"
   ]
  },
  {
   "cell_type": "code",
   "execution_count": 21,
   "metadata": {},
   "outputs": [],
   "source": []
  },
  {
   "cell_type": "code",
   "execution_count": 35,
   "metadata": {},
   "outputs": [],
   "source": [
    "state_boundaries = gpd.read_file('state_boundaries.gpkg')\n",
    "\n",
    "dataDump = []\n",
    "\n",
    "for i in range(0, len(state_boundaries)):\n",
    "    tempGeom = state_boundaries.iloc[i].geometry\n",
    "    for shape in tempGeom:\n",
    "        dataDump.append([[round(elem[0]), round(elem[1])] for elem in shape.exterior.coords])\n",
    "        \n",
    "with open('state_borders.json', 'w') as outfile:\n",
    "    json.dump(dataDump, outfile)"
   ]
  },
  {
   "cell_type": "code",
   "execution_count": 51,
   "metadata": {},
   "outputs": [],
   "source": [
    "county_boundaries = gpd.read_file('county_boundaries.gpkg')\n",
    "\n",
    "dataDump = []\n",
    "\n",
    "for i in range(0, len(county_boundaries)):\n",
    "    tempGeom = county_boundaries.iloc[i].geometry\n",
    "    for shape in tempGeom:\n",
    "        dataDump.append([[round(elem[0]), round(elem[1])] for elem in shape.exterior.coords])\n",
    "        \n",
    "with open('county_borders.json', 'w') as outfile:\n",
    "    json.dump(dataDump, outfile)"
   ]
  },
  {
   "cell_type": "code",
   "execution_count": null,
   "metadata": {},
   "outputs": [],
   "source": []
  }
 ],
 "metadata": {
  "kernelspec": {
   "display_name": "Python 3",
   "language": "python",
   "name": "python3"
  },
  "language_info": {
   "codemirror_mode": {
    "name": "ipython",
    "version": 3
   },
   "file_extension": ".py",
   "mimetype": "text/x-python",
   "name": "python",
   "nbconvert_exporter": "python",
   "pygments_lexer": "ipython3",
   "version": "3.8.3"
  }
 },
 "nbformat": 4,
 "nbformat_minor": 4
}
